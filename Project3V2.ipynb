{
 "cells": [
  {
   "cell_type": "code",
   "execution_count": 11,
   "id": "7a8e2afb-b6d3-4dd9-91c3-27f1296fa885",
   "metadata": {},
   "outputs": [
    {
     "name": "stderr",
     "output_type": "stream",
     "text": [
      "[*********************100%%**********************]  9 of 9 completed\n"
     ]
    }
   ],
   "source": [
    "# Packages\n",
    "import numpy as np\n",
    "import pandas as pd\n",
    "import datetime as dt\n",
    "import matplotlib.pyplot as plt\n",
    "from scipy.stats import norm\n",
    "import yfinance as yf\n",
    "\n",
    "# Dataset\n",
    "# Set start and end date\n",
    "start_date = '2022-04-01'\n",
    "end_date = '2024-03-31'\n",
    "\n",
    "# Code of the Index or Stocks\n",
    "code = ['CL=F', 'ES=F', 'GC=F', 'NG=F', 'NQ=F', '^GSPC', '^IXIC', 'YM=F', 'RTY=F']\n",
    "\n",
    "# Download data\n",
    "df = yf.download(code, start_date, end_date)\n",
    "df = df['Adj Close']\n",
    "\n",
    "# Daily return daily prices and remove any NA\n",
    "logreturn = np.log(df[code]/df[code].shift(1))\n",
    "logretur = logret.dropna()"
   ]
  },
  {
   "cell_type": "code",
   "execution_count": 13,
   "id": "176a0376-6699-4521-8e02-fc9b7ef01e7e",
   "metadata": {},
   "outputs": [],
   "source": [
    "# Function of expected return\n",
    "def e_return(weight, logreturn):\n",
    "    return np.sum(logreturn.mean()*weight)"
   ]
  },
  {
   "cell_type": "code",
   "execution_count": 15,
   "id": "ffb29325-ed55-47f4-976f-a32add82b977",
   "metadata": {},
   "outputs": [],
   "source": [
    "# Function of standard deviation\n",
    "def stdev_return(weight, cov_matrix):\n",
    "    variance = weight.T @cov_matrix @weight\n",
    "    return np.sqrt(variance)"
   ]
  },
  {
   "cell_type": "code",
   "execution_count": 17,
   "id": "3015acad-5879-4e1c-8dc3-ec205b614945",
   "metadata": {},
   "outputs": [
    {
     "ename": "NameError",
     "evalue": "name 'logreturn' is not defined",
     "output_type": "error",
     "traceback": [
      "\u001b[0;31m---------------------------------------------------------------------------\u001b[0m",
      "\u001b[0;31mNameError\u001b[0m                                 Traceback (most recent call last)",
      "Cell \u001b[0;32mIn[17], line 1\u001b[0m\n\u001b[0;32m----> 1\u001b[0m cov_matrix \u001b[38;5;241m=\u001b[39m logreturn\u001b[38;5;241m.\u001b[39mcov()\n\u001b[1;32m      2\u001b[0m \u001b[38;5;28mprint\u001b[39m(cov_matrix)\n",
      "\u001b[0;31mNameError\u001b[0m: name 'logreturn' is not defined"
     ]
    }
   ],
   "source": [
    "cov_matrix = logreturn.cov()\n",
    "print(cov_matrix)"
   ]
  },
  {
   "cell_type": "code",
   "execution_count": null,
   "id": "ab848c33-1a86-4b67-a5c9-c9cc3247e57d",
   "metadata": {},
   "outputs": [],
   "source": [
    "# Weight\n",
    "port_value = 100000\n",
    "# weight = np.array([1/9]*9) # Equal\n",
    "# weight = np.array([0.1, 0.1, 0.1, 0.1, 0.2, 0.1, 0.1, 0.1, 0.1]) # varcov\n",
    "weight = np.array([0.00458493, 0.18084041, 0.27384339, 0.0021879,  0.2060439,  0.03673825, 0.10243592, 0.170245,   0.0230803]) # MC\n",
    "port_e_return = e_return(weight, logreturn)\n",
    "port_stdev_return = stdev_return(weight, cov_matrix)\n",
    "print(weight)"
   ]
  },
  {
   "cell_type": "code",
   "execution_count": null,
   "id": "9884bb49-94d6-49c2-a5c5-f75aae19a38b",
   "metadata": {},
   "outputs": [],
   "source": [
    "# Calculate scenario GainLoss\n",
    "days = 10\n",
    "def scenario_gain_loss(port_value, port_stdev_return, days):\n",
    "    zscore = np.random.normal(0, 1)\n",
    "    return port_value*port_e_return*days + port_value*port_stdev_return *zscore*np.sqrt(days)"
   ]
  },
  {
   "cell_type": "code",
   "execution_count": null,
   "id": "937e9c25-abc0-44d4-9573-ffb0ac17761b",
   "metadata": {},
   "outputs": [],
   "source": [
    "# Monte Carlo Simulation\n",
    "num_sim = 100000\n",
    "scenario_return = []\n",
    "\n",
    "for i in range(num_sim):\n",
    "    scenario_return.append(scenario_gain_loss(port_value, port_stdev_return, days))"
   ]
  },
  {
   "cell_type": "code",
   "execution_count": null,
   "id": "8c0bc8dd-fa07-4558-af43-f09e2cdd7314",
   "metadata": {},
   "outputs": [],
   "source": [
    "# Confidence interval and VaR\n",
    "alpha = [0.01, 0.05, 0.10]\n",
    "VaR_01 = -np.percentile(scenario_return, 100 *alpha[0])\n",
    "VaR_05 = -np.percentile(scenario_return, 100 *alpha[1])\n",
    "VaR_10 = -np.percentile(scenario_return, 100 *alpha[2])\n",
    "print(VaR_10)\n",
    "print(VaR_05)\n",
    "print(VaR_01)"
   ]
  },
  {
   "cell_type": "code",
   "execution_count": null,
   "id": "4881f521-dc8c-487b-9cbd-fd880d4b2807",
   "metadata": {},
   "outputs": [],
   "source": [
    "# Plot the results\n",
    "plt.hist(scenario_return, bins=50, density=True, color='y')\n",
    "plt.xlabel('Gain/Loss ($)')\n",
    "plt.ylabel('Frequency')\n",
    "plt.title(f'Distribution of Portfolio Gain/Loss Over {days} Days')\n",
    "plt.axvline(VaR_10, color='r', linestyle='dashed', linewidth=2, label=f'VaR at {alpha[2]:.0%} confidence level')\n",
    "plt.axvline(VaR_05, color='g', linestyle='dashed', linewidth=2, label=f'VaR at {alpha[1]:.0%} confidence level')\n",
    "plt.axvline(VaR_01, color='b', linestyle='dashed', linewidth=2, label=f'VaR at {alpha[0]:.0%} confidence level')\n",
    "plt.legend()\n",
    "plt.show()"
   ]
  },
  {
   "cell_type": "code",
   "execution_count": null,
   "id": "28e2ba98-29d9-4382-9ecf-11975a43f849",
   "metadata": {},
   "outputs": [],
   "source": []
  }
 ],
 "metadata": {
  "kernelspec": {
   "display_name": "anaconda-panel-2023.05-py310",
   "language": "python",
   "name": "conda-env-anaconda-panel-2023.05-py310-py"
  },
  "language_info": {
   "codemirror_mode": {
    "name": "ipython",
    "version": 3
   },
   "file_extension": ".py",
   "mimetype": "text/x-python",
   "name": "python",
   "nbconvert_exporter": "python",
   "pygments_lexer": "ipython3",
   "version": "3.11.5"
  }
 },
 "nbformat": 4,
 "nbformat_minor": 5
}
